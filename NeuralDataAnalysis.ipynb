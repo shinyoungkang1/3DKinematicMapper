{
 "cells": [
  {
   "cell_type": "code",
   "execution_count": 1,
   "metadata": {},
   "outputs": [],
   "source": [
    "import numpy as np\n",
    "import glob\n",
    "import h5py\n",
    "import hdf5storage\n",
    "import time\n",
    "from skimage.segmentation import watershed\n",
    "from skimage.filters import roberts\n",
    "from sklearn.mixture import GaussianMixture\n",
    "import matplotlib.pyplot as plt\n",
    "import motionmapperpy as mmpy\n",
    "\n",
    "neuraldata = np.load('JDM31_day_13_spikes_300hz.npy', allow_pickle=True)"
   ]
  },
  {
   "cell_type": "code",
   "execution_count": 2,
   "metadata": {},
   "outputs": [],
   "source": [
    "import hdf5storage\n",
    "mat = hdf5storage.loadmat('C:\\\\Users\\\\14692\\\\RatDataSimulation\\\\VAESAMPLING_TSNE\\\\TSNE\\\\zVals_wShed_groups.mat')\n",
    "zValue = mat['zValues']"
   ]
  },
  {
   "cell_type": "code",
   "execution_count": 5,
   "metadata": {},
   "outputs": [],
   "source": [
    "spike_zValues = []\n",
    "\n",
    "for i in range(neuraldata.shape[0]):\n",
    "    spike_zValues.append(zValue[neuraldata[i]])"
   ]
  },
  {
   "cell_type": "code",
   "execution_count": 8,
   "metadata": {},
   "outputs": [],
   "source": [
    "Folder = 'C:\\\\Users\\\\14692\\\\RatDataSimulation\\\\VAESAMPLING_TSNE\\\\NeuralDensityPlots\\\\'\n",
    "for i in range(neuraldata.shape[0]):\n",
    "    (bounds, xx, density) = mmpy.findPointDensity(spike_zValues[i], sigma = 0.6, numPoints = 610, rangeVals=[-np.abs(spike_zValues[i],).max() - 15, np.abs(spike_zValues[i],).max() + 15])\n",
    "    bmapcmap = mmpy.gencmap()\n",
    "    percentage = round(len(neuraldata[i])/len(zValue)*100,3)\n",
    "    plt.figure(figsize=(3.20,2.40))\n",
    "    c= plt.imshow(density, cmap = bmapcmap, origin ='lower') \n",
    "    plt.colorbar(c)\n",
    "    plt.title('Density Plot for Unit ' + str(i+1),fontsize = 10)\n",
    "    plt.text(3, 5, 'Spikes ' + str(percentage) + '%',fontsize = 10)\n",
    "    plt.savefig(Folder + 'Unit ' + str(i+1) + '.png', bbox_inches = \"tight\")\n",
    "    plt.close()"
   ]
  },
  {
   "cell_type": "code",
   "execution_count": null,
   "metadata": {},
   "outputs": [],
   "source": []
  },
  {
   "cell_type": "markdown",
   "metadata": {},
   "source": [
    "## Looking at the 1st Neuron"
   ]
  },
  {
   "cell_type": "code",
   "execution_count": 3,
   "metadata": {},
   "outputs": [],
   "source": [
    "spike_index = neuraldata[0]"
   ]
  },
  {
   "cell_type": "code",
   "execution_count": 5,
   "metadata": {},
   "outputs": [
    {
     "data": {
      "text/plain": [
       "array([ 3241500,  3241589,  3242160, ..., 19979973, 19979991, 19979993],\n",
       "      dtype=int64)"
      ]
     },
     "execution_count": 5,
     "metadata": {},
     "output_type": "execute_result"
    }
   ],
   "source": [
    "spike_index"
   ]
  },
  {
   "cell_type": "code",
   "execution_count": 4,
   "metadata": {},
   "outputs": [],
   "source": [
    "spike_zValues = zValue[spike_index]"
   ]
  },
  {
   "cell_type": "code",
   "execution_count": 128,
   "metadata": {},
   "outputs": [
    {
     "ename": "IndexError",
     "evalue": "list assignment index out of range",
     "output_type": "error",
     "traceback": [
      "\u001b[1;31m---------------------------------------------------------------------------\u001b[0m",
      "\u001b[1;31mIndexError\u001b[0m                                Traceback (most recent call last)",
      "\u001b[1;32m<ipython-input-128-8116d7de5279>\u001b[0m in \u001b[0;36m<module>\u001b[1;34m\u001b[0m\n\u001b[0;32m      2\u001b[0m \u001b[1;32mfor\u001b[0m \u001b[0mi\u001b[0m \u001b[1;32min\u001b[0m \u001b[0mrange\u001b[0m\u001b[1;33m(\u001b[0m\u001b[0mneuraldata\u001b[0m\u001b[1;33m.\u001b[0m\u001b[0mshape\u001b[0m\u001b[1;33m[\u001b[0m\u001b[1;36m0\u001b[0m\u001b[1;33m]\u001b[0m\u001b[1;33m)\u001b[0m\u001b[1;33m:\u001b[0m\u001b[1;33m\u001b[0m\u001b[1;33m\u001b[0m\u001b[0m\n\u001b[0;32m      3\u001b[0m     \u001b[0mspike_index\u001b[0m \u001b[1;33m=\u001b[0m \u001b[0mneuraldata\u001b[0m\u001b[1;33m[\u001b[0m\u001b[0mi\u001b[0m\u001b[1;33m]\u001b[0m\u001b[1;33m\u001b[0m\u001b[1;33m\u001b[0m\u001b[0m\n\u001b[1;32m----> 4\u001b[1;33m     \u001b[0mspike_zValues\u001b[0m\u001b[1;33m[\u001b[0m\u001b[0mi\u001b[0m\u001b[1;33m]\u001b[0m \u001b[1;33m=\u001b[0m \u001b[0mzValue\u001b[0m\u001b[1;33m[\u001b[0m\u001b[0mspike_index\u001b[0m\u001b[1;33m]\u001b[0m\u001b[1;33m\u001b[0m\u001b[1;33m\u001b[0m\u001b[0m\n\u001b[0m",
      "\u001b[1;31mIndexError\u001b[0m: list assignment index out of range"
     ]
    }
   ],
   "source": [
    "spike_zValues = []\n",
    "for i in range(neuraldata.shape[0]):\n",
    "    spike_index = neuraldata[i]\n",
    "    spike_zValues[i] = zValue[spike_index]"
   ]
  },
  {
   "cell_type": "code",
   "execution_count": 5,
   "metadata": {},
   "outputs": [],
   "source": [
    "import motionmapperpy as mmpy"
   ]
  },
  {
   "cell_type": "code",
   "execution_count": 14,
   "metadata": {},
   "outputs": [],
   "source": [
    "(bounds, xx, density) = mmpy.findPointDensity(spike_zValues, sigma = 0.6, numPoints = 610, rangeVals=[-np.abs(spike_zValues).max() - 15, np.abs(spike_zValues).max() + 15])"
   ]
  },
  {
   "cell_type": "code",
   "execution_count": 7,
   "metadata": {},
   "outputs": [],
   "source": [
    "bmapcmap = mmpy.gencmap()"
   ]
  },
  {
   "cell_type": "code",
   "execution_count": 15,
   "metadata": {},
   "outputs": [],
   "source": [
    "plt.figure()\n",
    "c= plt.imshow(density, cmap = bmapcmap, origin ='lower') \n",
    "plt.colorbar(c)\n",
    "plt.title('Density Plot for Neuron 1', fontweight =\"bold\") \n",
    "plt.savefig('Neuron 1.png')\n",
    "plt.close()"
   ]
  },
  {
   "cell_type": "code",
   "execution_count": null,
   "metadata": {},
   "outputs": [],
   "source": []
  },
  {
   "cell_type": "markdown",
   "metadata": {},
   "source": [
    "# Looking at probabilities"
   ]
  },
  {
   "cell_type": "code",
   "execution_count": 3,
   "metadata": {},
   "outputs": [],
   "source": [
    "def intersection(lst1, lst2):\n",
    "    return list(set(lst1) & set(lst2))\n",
    "\n",
    "def removeintersection(lst1, lst2):\n",
    "    return list(set(lst1) - set(lst2))\n",
    "\n",
    "def findtimeseries_only_activeneuronspike(neuraldata, searchingneuron):\n",
    "    totalneuron = list(range(neuraldata.shape[0]))\n",
    "    #searchingneuron = [0,1,2]\n",
    "    nonsearchingneuron = np.delete(totalneuron, searchingneuron)\n",
    "\n",
    "    activeneurontimeseries = []\n",
    "    nonactivenuerontimeseries = []\n",
    "\n",
    "\n",
    "    for i in searchingneuron:\n",
    "        activeneurontimeseries = np.sort(intersection(neuraldata[searchingneuron[0]],neuraldata[i]))\n",
    "        \n",
    "    for i in nonsearchingneuron:\n",
    "        nonactiveneurontimeseries = np.sort(np.union1d(neuraldata[nonsearchingneuron[0]],neuraldata[i]))\n",
    "        \n",
    "    timeseries_onlyactive = np.sort(removeintersection(activeneurontimeseries,nonactiveneurontimeseries))\n",
    "    \n",
    "    return timeseries_onlyactive"
   ]
  },
  {
   "cell_type": "code",
   "execution_count": 140,
   "metadata": {},
   "outputs": [],
   "source": [
    "posteriorleg_timeseries = findtimeseries_only_activeneuronspike(neuraldata, [8,13])"
   ]
  },
  {
   "cell_type": "code",
   "execution_count": 142,
   "metadata": {},
   "outputs": [],
   "source": [
    "Folder = 'C:\\\\Users\\\\14692\\\\RatDataSimulation\\\\'\n",
    "\n",
    "behavior_timeseries = posteriorleg_timeseries\n",
    "\n",
    "(bounds, xx, density) = mmpy.findPointDensity(zValue[behavior_timeseries], sigma = 0.6, numPoints = 610, rangeVals=[-np.abs(zValue[behavior_timeseries],).max() - 15, np.abs(zValue[behavior_timeseries],).max() + 15])\n",
    "bmapcmap = mmpy.gencmap()\n",
    "percentage = round(len(behavior_timeseries)/len(zValue)*100,3)\n",
    "\n",
    "plt.figure()\n",
    "c= plt.imshow(density, cmap = bmapcmap, origin ='lower') \n",
    "plt.colorbar(c)\n",
    "plt.title('Density Plot for Neuron Activating Posterior Leg Locomotion')\n",
    "plt.text(3, 3, 'Poster Leg Neurons Spike for ' + str(percentage) + '% of the time')\n",
    "plt.savefig(Folder + 'Posterior Leg Locomotion Neuron.png')\n",
    "plt.close()"
   ]
  },
  {
   "cell_type": "code",
   "execution_count": 7,
   "metadata": {},
   "outputs": [],
   "source": [
    "Folder = 'C:\\\\Users\\\\14692\\\\RatDataSimulation\\\\VAESAMPLING_TSNE\\\\NeuralDensityPlots\\\\OnlySpecific\\\\'"
   ]
  },
  {
   "cell_type": "code",
   "execution_count": 224,
   "metadata": {},
   "outputs": [],
   "source": [
    "posteriorleg_timeseries = findtimeseries_only_activeneuronspike(neuraldata, [8,29]) #need some adjustments"
   ]
  },
  {
   "cell_type": "code",
   "execution_count": 271,
   "metadata": {},
   "outputs": [
    {
     "data": {
      "text/plain": [
       "0"
      ]
     },
     "execution_count": 271,
     "metadata": {},
     "output_type": "execute_result"
    }
   ],
   "source": [
    "len(grooming_loweredpositionleglocomotion_timeseries)"
   ]
  },
  {
   "cell_type": "code",
   "execution_count": 4,
   "metadata": {},
   "outputs": [],
   "source": [
    "grooming_loweredpositionleglocomotion_timeseries = findtimeseries_only_activeneuronspike(neuraldata, [1,15])"
   ]
  },
  {
   "cell_type": "code",
   "execution_count": 167,
   "metadata": {},
   "outputs": [],
   "source": [
    "frontlegrubbing_grooming_timeseries = findtimeseries_only_activeneuronspike(neuraldata, [4, 60])"
   ]
  },
  {
   "cell_type": "code",
   "execution_count": 187,
   "metadata": {},
   "outputs": [],
   "source": [
    "frontlegrubbing_timeseries = findtimeseries_only_activeneuronspike(neuraldata, [11])"
   ]
  },
  {
   "cell_type": "code",
   "execution_count": 247,
   "metadata": {},
   "outputs": [],
   "source": [
    "loweredpositionleglocomotion_timeseries = findtimeseries_only_activeneuronspike(neuraldata, [33])"
   ]
  },
  {
   "cell_type": "code",
   "execution_count": 203,
   "metadata": {},
   "outputs": [],
   "source": [
    "#posterriorleg_grooming_timeseries = findtimeseries_only_activeneuronspike(neuraldata, [36])"
   ]
  },
  {
   "cell_type": "code",
   "execution_count": 208,
   "metadata": {},
   "outputs": [],
   "source": [
    "rearing_timeseries = findtimeseries_only_activeneuronspike(neuraldata, [52])"
   ]
  },
  {
   "cell_type": "code",
   "execution_count": 173,
   "metadata": {},
   "outputs": [],
   "source": [
    "Idle_timeseries = findtimeseries_only_activeneuronspike(neuraldata, [56])"
   ]
  },
  {
   "cell_type": "code",
   "execution_count": 5,
   "metadata": {},
   "outputs": [],
   "source": [
    "def PlotDensityGraph_OnlyActiveSensor(behavior_timeseries, zValue, Folder):\n",
    "    (bounds, xx, density) = mmpy.findPointDensity(zValue[behavior_timeseries], sigma = 0.6, numPoints = 610, rangeVals=[-np.abs(zValue[behavior_timeseries],).max() - 15, np.abs(zValue[behavior_timeseries],).max() + 15])\n",
    "    bmapcmap = mmpy.gencmap()\n",
    "    percentage = round(len(behavior_timeseries)/len(zValue)*100,3) \n",
    "    \n",
    "    plt.figure(figsize=(3.20,2.40))\n",
    "    c= plt.imshow(density, cmap = bmapcmap, origin ='lower') \n",
    "    plt.colorbar(c)\n",
    "    plt.title('Lowered Position Leg Locomotion', fontsize = 10)\n",
    "    plt.text(3, 5, 'Spikes ' + str(percentage) + '%',fontsize = 10)\n",
    "    plt.savefig(Folder + 'Lowered Position and Grooming.png', bbox_inches = \"tight\")\n",
    "    plt.close()\n",
    "    "
   ]
  },
  {
   "cell_type": "code",
   "execution_count": 8,
   "metadata": {},
   "outputs": [],
   "source": [
    "PlotDensityGraph_OnlyActiveSensor(grooming_loweredpositionleglocomotion_timeseries, zValue, Folder)"
   ]
  },
  {
   "cell_type": "code",
   "execution_count": null,
   "metadata": {},
   "outputs": [],
   "source": []
  },
  {
   "cell_type": "markdown",
   "metadata": {},
   "source": [
    "## Looking at just only each specific sensor"
   ]
  },
  {
   "cell_type": "code",
   "execution_count": 213,
   "metadata": {},
   "outputs": [],
   "source": [
    "Folder = 'C:\\\\Users\\\\14692\\\\RatDataSimulation\\\\VAESAMPLING_TSNE\\\\NeuralDensityPlots\\\\SpecificEachSensor\\\\'\n",
    "for i in range(neuraldata.shape[0]):\n",
    "    timeseries = findtimeseries_only_activeneuronspike(neuraldata, [i])\n",
    "    spike_zValues = zValue[timeseries]\n",
    "    (bounds, xx, density) = mmpy.findPointDensity(spike_zValues, sigma = 0.6, numPoints = 610, rangeVals=[-np.abs(spike_zValues,).max() - 15, np.abs(spike_zValues,).max() + 15])\n",
    "    bmapcmap = mmpy.gencmap()\n",
    "    percentage = round(len(spike_zValues)/len(zValue)*100,3)\n",
    "    plt.figure()\n",
    "    c= plt.imshow(density, cmap = bmapcmap, origin ='lower') \n",
    "    plt.colorbar(c)\n",
    "    plt.title('Density Plot for Only Neuron ' + str(i+1) + ' Spiking')\n",
    "    plt.text(3, 3, 'Neuron ' + str(i+1) + ' spikes ' + str(percentage) + '% of the time')\n",
    "    plt.savefig(Folder + 'Neuron' + str(i+1) + 'SpikingOnly.png')\n",
    "    plt.close()"
   ]
  },
  {
   "cell_type": "code",
   "execution_count": null,
   "metadata": {},
   "outputs": [],
   "source": []
  },
  {
   "cell_type": "code",
   "execution_count": null,
   "metadata": {},
   "outputs": [],
   "source": []
  },
  {
   "cell_type": "code",
   "execution_count": null,
   "metadata": {},
   "outputs": [],
   "source": []
  },
  {
   "cell_type": "code",
   "execution_count": null,
   "metadata": {},
   "outputs": [],
   "source": []
  },
  {
   "cell_type": "code",
   "execution_count": null,
   "metadata": {},
   "outputs": [],
   "source": []
  },
  {
   "cell_type": "code",
   "execution_count": null,
   "metadata": {},
   "outputs": [],
   "source": []
  }
 ],
 "metadata": {
  "kernelspec": {
   "display_name": "Python 3",
   "language": "python",
   "name": "python3"
  },
  "language_info": {
   "codemirror_mode": {
    "name": "ipython",
    "version": 3
   },
   "file_extension": ".py",
   "mimetype": "text/x-python",
   "name": "python",
   "nbconvert_exporter": "python",
   "pygments_lexer": "ipython3",
   "version": "3.7.6"
  }
 },
 "nbformat": 4,
 "nbformat_minor": 4
}
